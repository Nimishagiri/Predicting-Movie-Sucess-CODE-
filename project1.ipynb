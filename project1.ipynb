{
  "cells": [
    {
      "cell_type": "markdown",
      "metadata": {
        "id": "82p7sEf-ceg7"
      },
      "source": [
        "Predicting Movie Success"
      ]
    },
    {
      "cell_type": "markdown",
      "metadata": {
        "id": "99_S1XJVdGjI"
      },
      "source": [
        "Import Libraries:"
      ]
    },
    {
      "cell_type": "code",
      "execution_count": 1,
      "metadata": {
        "id": "YsY6r2SPktvM"
      },
      "outputs": [],
      "source": [
        "import pandas as pd\n",
        "import numpy as np\n",
        "import matplotlib.pyplot as plt\n",
        "import seaborn as sns\n",
        "from sklearn.preprocessing import LabelEncoder,StandardScaler\n",
        "from sklearn.impute import SimpleImputer\n",
        "from sklearn.linear_model import LogisticRegression\n",
        "from sklearn.datasets import make_classification\n",
        "from sklearn.preprocessing import PolynomialFeatures\n",
        "from sklearn.model_selection import train_test_split\n",
        "from sklearn.ensemble import RandomForestClassifier\n",
        "from sklearn.metrics import accuracy_score, confusion_matrix , classification_report\n",
        "from sklearn import svm"
      ]
    },
    {
      "cell_type": "code",
      "execution_count": 2,
      "metadata": {
        "id": "Dy_YYYITlmNC"
      },
      "outputs": [],
      "source": [
        "data = pd.read_csv(\"/content/movie_dataset capstone.csv\")"
      ]
    },
    {
      "cell_type": "code",
      "execution_count": null,
      "metadata": {
        "colab": {
          "base_uri": "https://localhost:8080/",
          "height": 307
        },
        "id": "aRsdpzbuluzE",
        "outputId": "c8846908-533d-4ffa-c895-6a5f6212fb87"
      },
      "outputs": [],
      "source": [
        "data.tail()"
      ]
    },
    {
      "cell_type": "code",
      "execution_count": 4,
      "metadata": {
        "id": "Xk13UujgCM7o"
      },
      "outputs": [],
      "source": [
        "data.drop(columns=['movie_title','plot_keywords','movie_imdb_link','facenumber_in_poster'],inplace= True)"
      ]
    },
    {
      "cell_type": "code",
      "execution_count": null,
      "metadata": {
        "colab": {
          "base_uri": "https://localhost:8080/",
          "height": 547
        },
        "id": "PyQtBY6-g1pE",
        "outputId": "ba5ce471-49fe-41e4-a51d-6fe00ae963e8"
      },
      "outputs": [],
      "source": [
        "data"
      ]
    },
    {
      "cell_type": "code",
      "execution_count": null,
      "metadata": {
        "colab": {
          "base_uri": "https://localhost:8080/"
        },
        "id": "ciPCPWPhlw2U",
        "outputId": "d9ac12dd-bb09-4d66-ed21-48008fd03784"
      },
      "outputs": [],
      "source": [
        "data.info()"
      ]
    },
    {
      "cell_type": "markdown",
      "metadata": {
        "id": "I9eUhn8QdPbK"
      },
      "source": [
        "EDA"
      ]
    },
    {
      "cell_type": "code",
      "execution_count": null,
      "metadata": {
        "colab": {
          "base_uri": "https://localhost:8080/",
          "height": 836
        },
        "id": "-FRs3uctlzwS",
        "outputId": "0e5c4587-d34f-4bf9-94c9-5864216fd5f3"
      },
      "outputs": [],
      "source": [
        "data.isnull().sum()"
      ]
    },
    {
      "cell_type": "code",
      "execution_count": 8,
      "metadata": {
        "id": "WBfc6KX_eX7w"
      },
      "outputs": [],
      "source": [
        "si = SimpleImputer(strategy='mean')\n",
        "data['num_critic_for_reviews']=si.fit_transform(data[['num_critic_for_reviews']]).ravel()\n",
        "data['duration']=si.fit_transform(data[['duration']]).ravel()\n",
        "data['director_facebook_likes']=si.fit_transform(data[['director_facebook_likes']]).ravel()\n",
        "data['actor_3_facebook_likes']=si.fit_transform(data[['actor_3_facebook_likes']]).ravel()\n",
        "data['actor_1_facebook_likes']=si.fit_transform(data[['actor_1_facebook_likes']]).ravel()\n",
        "data['gross']=si.fit_transform(data[['gross']]).ravel()\n",
        "data['num_user_for_reviews']=si.fit_transform(data[['num_user_for_reviews']]).ravel()\n",
        "data['budget']=si.fit_transform(data[['budget']]).ravel()\n",
        "data['title_year']=si.fit_transform(data[['title_year']]).ravel()\n",
        "data['actor_2_facebook_likes']=si.fit_transform(data[['actor_2_facebook_likes']]).ravel()\n",
        "data['imdb_score']=si.fit_transform(data[['imdb_score']]).ravel()\n",
        "data['aspect_ratio']=si.fit_transform(data[['aspect_ratio']]).ravel()\n",
        "data['movie_facebook_likes']=si.fit_transform(data[['movie_facebook_likes']]).ravel()\n"
      ]
    },
    {
      "cell_type": "code",
      "execution_count": 9,
      "metadata": {
        "id": "KX1OgZH1ENjj"
      },
      "outputs": [],
      "source": [
        "categorical_columns = data.select_dtypes(include=['object']).columns\n",
        "data = data.dropna(subset=categorical_columns)"
      ]
    },
    {
      "cell_type": "code",
      "execution_count": null,
      "metadata": {
        "colab": {
          "base_uri": "https://localhost:8080/"
        },
        "id": "pLdXMxTIGKo4",
        "outputId": "bddb5347-0462-4067-84fd-5d2f7b33663b"
      },
      "outputs": [],
      "source": [
        "data.columns"
      ]
    },
    {
      "cell_type": "code",
      "execution_count": null,
      "metadata": {
        "colab": {
          "base_uri": "https://localhost:8080/"
        },
        "id": "lya4VLSgQYOL",
        "outputId": "8cfb25bb-ee9c-482d-c342-96377ed26276"
      },
      "outputs": [],
      "source": [
        "\n",
        "def classify_movie(score):\n",
        "    if 1 <= score <= 3:\n",
        "        return \"Flop Movie\"\n",
        "    elif 3 < score <= 6:\n",
        "        return \"Average Movie\"\n",
        "    else:\n",
        "        return \"Hit Movie\"\n",
        "\n",
        "\n",
        "data['Classify'] = data['imdb_score'].apply(classify_movie)\n"
      ]
    },
    {
      "cell_type": "code",
      "execution_count": null,
      "metadata": {
        "colab": {
          "base_uri": "https://localhost:8080/",
          "height": 325
        },
        "id": "zyCFFrtLQsBm",
        "outputId": "62e4ee7d-0651-4db3-b582-c21684e40f8a"
      },
      "outputs": [],
      "source": [
        "data.tail()"
      ]
    },
    {
      "cell_type": "code",
      "execution_count": null,
      "metadata": {
        "colab": {
          "base_uri": "https://localhost:8080/",
          "height": 868
        },
        "id": "uz3vgW35tOoH",
        "outputId": "62d15d69-582d-4ec1-f8ee-08d7a3ef1db4"
      },
      "outputs": [],
      "source": [
        "data.isnull().sum()"
      ]
    },
    {
      "cell_type": "code",
      "execution_count": null,
      "metadata": {
        "colab": {
          "base_uri": "https://localhost:8080/",
          "height": 209
        },
        "id": "AVqrxuxFtB0e",
        "outputId": "31c0ce06-1b1d-4fb6-a0c3-abffad5e11e5"
      },
      "outputs": [],
      "source": [
        "data['Classify'].value_counts()"
      ]
    },
    {
      "cell_type": "code",
      "execution_count": null,
      "metadata": {
        "colab": {
          "base_uri": "https://localhost:8080/",
          "height": 489
        },
        "id": "y-9GeZ0RIVNj",
        "outputId": "1d769e80-76c5-4bc5-fcb2-22df550dbea2"
      },
      "outputs": [],
      "source": [
        "data['director_name'].value_counts()"
      ]
    },
    {
      "cell_type": "code",
      "execution_count": null,
      "metadata": {
        "colab": {
          "base_uri": "https://localhost:8080/",
          "height": 489
        },
        "id": "PD9kDPf-IyXS",
        "outputId": "8fa2b8a4-33a7-42f2-ca7b-04eb2c8d413c"
      },
      "outputs": [],
      "source": [
        "data['actor_2_name'].value_counts()"
      ]
    },
    {
      "cell_type": "code",
      "execution_count": null,
      "metadata": {
        "colab": {
          "base_uri": "https://localhost:8080/",
          "height": 489
        },
        "id": "bnr7XCdRJKob",
        "outputId": "d319f68f-e0f6-4065-d567-cf0c46eb71eb"
      },
      "outputs": [],
      "source": [
        "data['genres'].value_counts()"
      ]
    },
    {
      "cell_type": "code",
      "execution_count": null,
      "metadata": {
        "colab": {
          "base_uri": "https://localhost:8080/",
          "height": 489
        },
        "id": "y9WOv4MjJSOt",
        "outputId": "b7bff532-7ad4-48fd-8079-13d7b8928334"
      },
      "outputs": [],
      "source": [
        "data['actor_1_name'].value_counts()"
      ]
    },
    {
      "cell_type": "code",
      "execution_count": null,
      "metadata": {
        "colab": {
          "base_uri": "https://localhost:8080/",
          "height": 489
        },
        "id": "TjTK-kW1JaM0",
        "outputId": "c117aff2-91dd-403e-eb0a-73befeec0da1"
      },
      "outputs": [],
      "source": [
        "data['actor_3_name'].value_counts()"
      ]
    },
    {
      "cell_type": "code",
      "execution_count": null,
      "metadata": {
        "colab": {
          "base_uri": "https://localhost:8080/",
          "height": 1000
        },
        "id": "2vyMHO3MJwtS",
        "outputId": "482df3c7-0729-4bfe-f0fc-1650b421c6c0"
      },
      "outputs": [],
      "source": [
        "data['language'].value_counts()"
      ]
    },
    {
      "cell_type": "code",
      "execution_count": null,
      "metadata": {
        "colab": {
          "base_uri": "https://localhost:8080/",
          "height": 1000
        },
        "id": "A1o9xQwxRAJd",
        "outputId": "abcb352d-04df-4fb5-a764-a3f2a40c4153"
      },
      "outputs": [],
      "source": [
        "data['country'].value_counts()"
      ]
    },
    {
      "cell_type": "code",
      "execution_count": null,
      "metadata": {
        "colab": {
          "base_uri": "https://localhost:8080/",
          "height": 585
        },
        "id": "qAWv-x9CRC3K",
        "outputId": "758f9ebe-2068-45e2-dd58-a19b76f101c9"
      },
      "outputs": [],
      "source": [
        "data['content_rating'].value_counts()"
      ]
    },
    {
      "cell_type": "code",
      "execution_count": null,
      "metadata": {
        "colab": {
          "base_uri": "https://localhost:8080/",
          "height": 489
        },
        "id": "FDvH6QniRDeP",
        "outputId": "e035bf36-408c-467a-dde3-ea9d0afeac2d"
      },
      "outputs": [],
      "source": [
        "data['actor_3_name'].value_counts()"
      ]
    },
    {
      "cell_type": "code",
      "execution_count": null,
      "metadata": {
        "colab": {
          "base_uri": "https://localhost:8080/"
        },
        "id": "TOX0f-uUgYjh",
        "outputId": "5ac48e74-f100-4f8e-a54a-33f1e40e8d38"
      },
      "outputs": [],
      "source": [
        "data.columns"
      ]
    },
    {
      "cell_type": "code",
      "execution_count": 25,
      "metadata": {
        "id": "iG7RkOprkJH4"
      },
      "outputs": [],
      "source": [
        "special_features = ['num_critic_for_reviews', 'duration', 'gross',\n",
        "    'num_user_for_reviews', 'budget',\n",
        "    'title_year', 'imdb_score',\n",
        "    'aspect_ratio', 'movie_facebook_likes']"
      ]
    },
    {
      "cell_type": "markdown",
      "metadata": {
        "id": "JJgVjsRddx67"
      },
      "source": [
        "Visualization:"
      ]
    },
    {
      "cell_type": "code",
      "execution_count": null,
      "metadata": {
        "colab": {
          "base_uri": "https://localhost:8080/",
          "height": 642
        },
        "id": "8bKrdXRNs5Yc",
        "outputId": "58876d48-2379-4d45-d89b-eba351847dbb"
      },
      "outputs": [],
      "source": [
        "\n",
        "plt.figure(figsize=(14, 17))\n",
        "\n",
        "plt.subplot(3, 2, 1)\n",
        "data['Classify'].value_counts().plot(kind='bar', color=['red', 'orange', 'green'])\n",
        "plt.title('Movie Classification Counts')\n",
        "plt.xlabel('Category')\n",
        "plt.ylabel('Count')\n",
        "plt.tight_layout()\n",
        "plt.show()\n"
      ]
    },
    {
      "cell_type": "code",
      "execution_count": null,
      "metadata": {
        "colab": {
          "base_uri": "https://localhost:8080/",
          "height": 573
        },
        "id": "9YwuKTj5t8_2",
        "outputId": "b4aa8dfa-d57a-4fdf-d095-7d3bf843728f"
      },
      "outputs": [],
      "source": [
        "plt.figure(figsize=(16, 20))\n",
        "plt.subplot(3, 2, 2)\n",
        "plt.hist(data['imdb_score'], bins=20, color='blue', edgecolor='black')\n",
        "plt.title('Distribution of IMDB Scores')\n",
        "plt.xlabel('IMDB Score')\n",
        "plt.ylabel('Frequency')"
      ]
    },
    {
      "cell_type": "code",
      "execution_count": null,
      "metadata": {
        "colab": {
          "base_uri": "https://localhost:8080/",
          "height": 539
        },
        "id": "6d_AXKYOqn0M",
        "outputId": "68cf86ef-9ffa-4d5a-e2bf-23c3cd1241ca"
      },
      "outputs": [],
      "source": [
        "plt.figure(figsize=(6,6))\n",
        "colors = data['color']\n",
        "labels = colors.unique()\n",
        "sizes = [colors.tolist().count(label) for label in labels]\n",
        "\n",
        "plt.pie(\n",
        "    sizes,\n",
        "    labels=labels,\n",
        "    autopct='%1.1f%%',\n",
        "    colors=sns.color_palette(\"Set3\"))\n",
        "plt.title('Movie Color Distribution', fontsize=16)\n",
        "plt.tight_layout()\n",
        "plt.show()"
      ]
    },
    {
      "cell_type": "code",
      "execution_count": null,
      "metadata": {
        "colab": {
          "base_uri": "https://localhost:8080/",
          "height": 573
        },
        "id": "EoMRcqUzuKWu",
        "outputId": "011c4cd2-6131-4472-e47c-e3b66c3515c0"
      },
      "outputs": [],
      "source": [
        "plt.figure(figsize=(16, 20))\n",
        "content_rating_avg = data.groupby('content_rating')['imdb_score'].mean().sort_values()\n",
        "plt.subplot(3, 2, 3)\n",
        "content_rating_avg.plot(kind='barh', color='purple')\n",
        "plt.title('Average IMDB Score by Content Rating')\n",
        "plt.xlabel('Average IMDB Score')\n",
        "plt.ylabel('Content Rating')"
      ]
    },
    {
      "cell_type": "code",
      "execution_count": null,
      "metadata": {
        "colab": {
          "base_uri": "https://localhost:8080/",
          "height": 566
        },
        "id": "UuEoAUoct2JE",
        "outputId": "bef36c5b-10f7-4418-9939-7185ebcf1e0e"
      },
      "outputs": [],
      "source": [
        "plt.figure(figsize=(16, 20))\n",
        "top_directors = data['director_name'].value_counts().head(10)\n",
        "plt.subplot(4, 5, 1)\n",
        "sns.barplot(x=top_directors.values, y=top_directors.index, palette=\"viridis\")\n",
        "plt.title('Top 10 Directors with Most Movies')\n",
        "plt.xlabel('Number of Movies')\n",
        "plt.ylabel('Director')"
      ]
    },
    {
      "cell_type": "code",
      "execution_count": null,
      "metadata": {
        "colab": {
          "base_uri": "https://localhost:8080/",
          "height": 573
        },
        "id": "aJrlZDOuVYSb",
        "outputId": "6583ff56-711a-484a-a241-3bf411d7e9e6"
      },
      "outputs": [],
      "source": [
        "plt.figure(figsize=(16, 20))\n",
        "plt.subplot(3, 2, 4)\n",
        "yearly_scores = data.groupby('title_year')['imdb_score'].mean()\n",
        "yearly_scores.plot(color='orange', marker='o')\n",
        "plt.title('IMDB Scores Over the Years')\n",
        "plt.xlabel('Year')\n",
        "plt.ylabel('Average IMDB Score')"
      ]
    },
    {
      "cell_type": "code",
      "execution_count": null,
      "metadata": {
        "colab": {
          "base_uri": "https://localhost:8080/",
          "height": 941
        },
        "id": "mwXOcgt_VvV4",
        "outputId": "8486c42e-512f-41c7-87f9-d77db77a22e0"
      },
      "outputs": [],
      "source": [
        "plt.figure(figsize=(18, 10))\n",
        "sns.barplot(x='language', y='imdb_score', data=data, palette='viridis', ci=None)\n",
        "plt.xticks(rotation=90)\n",
        "plt.title('Average IMDB Scores by Language', fontsize=16)\n",
        "plt.xlabel('Language', fontsize=14)\n",
        "plt.ylabel('IMDB Score', fontsize=14)"
      ]
    },
    {
      "cell_type": "code",
      "execution_count": null,
      "metadata": {
        "colab": {
          "base_uri": "https://localhost:8080/",
          "height": 569
        },
        "id": "UKoH_ud7XSsd",
        "outputId": "c286a7bc-5ba4-4d06-90b5-f4e78b5d6a32"
      },
      "outputs": [],
      "source": [
        "plt.figure(figsize=(30, 20))\n",
        "plt.subplot(3, 2, 3)\n",
        "sns.scatterplot(x='cast_total_facebook_likes', y='imdb_score', data=data, alpha=0.6, hue='Classify', palette='coolwarm')\n",
        "plt.title('Cast Total Facebook Likes vs IMDB Score')\n",
        "plt.xlabel('Cast Total Facebook Likes')\n",
        "plt.ylabel('IMDB Score')\n",
        "\n"
      ]
    },
    {
      "cell_type": "code",
      "execution_count": null,
      "metadata": {
        "colab": {
          "base_uri": "https://localhost:8080/",
          "height": 857
        },
        "id": "TALsAaZoX0jL",
        "outputId": "c98f0a43-2e9b-4291-9207-2c2f0b9a0046"
      },
      "outputs": [],
      "source": [
        "plt.figure(figsize=(30, 20))\n",
        "plt.subplot(3, 2, 1)\n",
        "genre_scores = data.groupby('genres')['imdb_score'].mean().sort_values(ascending=False).head(10)\n",
        "genre_scores.plot(kind='bar', color='teal')\n",
        "plt.title('Top 10 Genres by Average IMDB Score')\n",
        "plt.xlabel('Genres')\n",
        "plt.ylabel('Average IMDB Score')"
      ]
    },
    {
      "cell_type": "code",
      "execution_count": null,
      "metadata": {
        "colab": {
          "base_uri": "https://localhost:8080/",
          "height": 997
        },
        "id": "CKBGGd3skckF",
        "outputId": "4ce3c6e0-a0cd-4e14-cdd6-80462da39be6"
      },
      "outputs": [],
      "source": [
        "special_features_data = data[special_features]\n",
        "\n",
        "correlation_matrix = special_features_data.corr()\n",
        "\n",
        "plt.figure(figsize=(12, 10))\n",
        "sns.heatmap(correlation_matrix, annot=True, cmap='coolwarm', fmt=\".2f\", linewidths=0.5)\n",
        "plt.title(\"Collinearity Heatmap (Special Features Correlation Matrix)\")\n",
        "plt.show()"
      ]
    },
    {
      "cell_type": "code",
      "execution_count": 35,
      "metadata": {
        "id": "_uo9b2jpbp95"
      },
      "outputs": [],
      "source": []
    },
    {
      "cell_type": "markdown",
      "metadata": {
        "id": "7nhKurMUd7eN"
      },
      "source": []
    },
    {
      "cell_type": "code",
      "execution_count": null,
      "metadata": {
        "colab": {
          "base_uri": "https://localhost:8080/"
        },
        "id": "Fngahn_uEZmM",
        "outputId": "ccbe425c-6544-4687-d23d-0d5996b13bac"
      },
      "outputs": [],
      "source": [
        "from sklearn.preprocessing import LabelEncoder\n",
        "lb = LabelEncoder()\n",
        "data['color'] = lb.fit_transform(data['color'])\n",
        "data['Classify'] = lb.fit_transform(data['Classify'])"
      ]
    },
    {
      "cell_type": "code",
      "execution_count": null,
      "metadata": {
        "colab": {
          "base_uri": "https://localhost:8080/"
        },
        "id": "p7YQ53aX_TB3",
        "outputId": "7155bfd3-797d-4256-9a6a-7c4d195b3389"
      },
      "outputs": [],
      "source": [
        "frequency_encoding = data['director_name'].value_counts().to_dict()\n",
        "data['director_name'] = data['director_name'].map(frequency_encoding)\n",
        "\n",
        "frequency_encoding = data['actor_2_name'].value_counts().to_dict()\n",
        "data['actor_2_name'] = data['actor_2_name'].map(frequency_encoding)\n",
        "\n",
        "frequency_encoding = data['actor_1_name'].value_counts().to_dict()\n",
        "data['actor_1_name'] = data['actor_1_name'].map(frequency_encoding)\n",
        "\n",
        "frequency_encoding = data['genres'].value_counts().to_dict()\n",
        "data['genres'] = data['genres'].map(frequency_encoding)\n",
        "\n",
        "frequency_encoding = data['actor_3_name'].value_counts().to_dict()\n",
        "data['actor_3_name'] = data['actor_3_name'].map(frequency_encoding)\n",
        "\n",
        "frequency_encoding = data['country'].value_counts().to_dict()\n",
        "data['country'] = data['country'].map(frequency_encoding)\n",
        "\n",
        "frequency_encoding = data['language'].value_counts().to_dict()\n",
        "data['language'] = data['language'].map(frequency_encoding)\n",
        "\n",
        "frequency_encoding = data['content_rating'].value_counts().to_dict()\n",
        "data['content_rating'] = data['content_rating'].map(frequency_encoding)"
      ]
    },
    {
      "cell_type": "code",
      "execution_count": null,
      "metadata": {
        "colab": {
          "base_uri": "https://localhost:8080/",
          "height": 255
        },
        "id": "B6Ej46-ZCd2X",
        "outputId": "28e0b76c-8ce4-4cde-e7d1-8f8aeef4e31b"
      },
      "outputs": [],
      "source": [
        "data.head()"
      ]
    },
    {
      "cell_type": "code",
      "execution_count": null,
      "metadata": {
        "colab": {
          "base_uri": "https://localhost:8080/",
          "height": 209
        },
        "id": "5U0SrRnxFaYG",
        "outputId": "37b9d963-437b-49ac-8e83-208243c07437"
      },
      "outputs": [],
      "source": [
        "data['Classify'].value_counts()"
      ]
    },
    {
      "cell_type": "code",
      "execution_count": null,
      "metadata": {
        "colab": {
          "base_uri": "https://localhost:8080/"
        },
        "id": "wKEdOGtQ7eqA",
        "outputId": "843f3a66-af95-40d1-fe6d-cc9518fe593e"
      },
      "outputs": [],
      "source": [
        "data.info()"
      ]
    },
    {
      "cell_type": "code",
      "execution_count": null,
      "metadata": {
        "colab": {
          "base_uri": "https://localhost:8080/",
          "height": 209
        },
        "id": "KSkEfZIKNcA1",
        "outputId": "31584c24-9f03-46cd-9d58-1f64cbab24c0"
      },
      "outputs": [],
      "source": [
        "data['Classify'].value_counts()"
      ]
    },
    {
      "cell_type": "markdown",
      "metadata": {
        "id": "ZZjyRwY3eCCP"
      },
      "source": [
        "Random Forest Model"
      ]
    },
    {
      "cell_type": "code",
      "execution_count": 42,
      "metadata": {
        "id": "B1ABBS-Zu_XA"
      },
      "outputs": [],
      "source": [
        "X = data.drop(columns='Classify',axis=1)\n",
        "y = data['Classify']"
      ]
    },
    {
      "cell_type": "code",
      "execution_count": null,
      "metadata": {
        "colab": {
          "base_uri": "https://localhost:8080/"
        },
        "id": "yToek6SGr6zi",
        "outputId": "af3c806b-4ed8-463e-d641-dde596539809"
      },
      "outputs": [],
      "source": [
        "X, y = make_classification(n_samples=1000, n_features=20, n_informative=15, random_state=42)\n",
        "\n",
        "X_train, X_test, y_train, y_test = train_test_split(X, y, test_size=0.3, random_state=42)\n",
        "\n",
        "rf = RandomForestClassifier(\n",
        "    n_estimators=100,\n",
        "    max_depth=10,\n",
        "    min_samples_split=10,\n",
        "    min_samples_leaf=5,\n",
        "    random_state=42\n",
        ")\n",
        "\n",
        "\n",
        "rf.fit(X_train, y_train)\n",
        "\n",
        "y_pred = rf.predict(X_test)\n",
        "\n",
        "accuracy = accuracy_score(y_test, y_pred)\n",
        "\n",
        "print(f'Accuracy: {accuracy:.2f}')"
      ]
    },
    {
      "cell_type": "code",
      "execution_count": null,
      "metadata": {
        "colab": {
          "base_uri": "https://localhost:8080/"
        },
        "id": "upxzegOVrBrm",
        "outputId": "4e94d25f-8bcb-4071-cc25-4f15057f116e"
      },
      "outputs": [],
      "source": [
        "print(classification_report(y_pred,y_test))"
      ]
    },
    {
      "cell_type": "code",
      "execution_count": null,
      "metadata": {
        "colab": {
          "base_uri": "https://localhost:8080/"
        },
        "id": "0HjFDqMMVg95",
        "outputId": "3d5ddcd9-f326-41b3-8d0d-ba545385da27"
      },
      "outputs": [],
      "source": [
        "from sklearn.metrics import mean_absolute_percentage_error, r2_score\n",
        "\n",
        "y_pred = rf.predict(X_test)\n",
        "\n",
        "\n",
        "mae = mean_absolute_percentage_error(y_test, y_pred)\n",
        "print(f\"MAPE: {mae * 100:.2f}%\")\n",
        "\n",
        "\n",
        "r2 = r2_score(y_test, y_pred)\n",
        "print(f\"R² Score: {r2 * 100 :.2f}%\")"
      ]
    },
    {
      "cell_type": "markdown",
      "metadata": {
        "id": "rr7uTt9JeL4F"
      },
      "source": [
        "Logistics Regression Model"
      ]
    },
    {
      "cell_type": "code",
      "execution_count": 46,
      "metadata": {
        "id": "_1-pUT9u1FER"
      },
      "outputs": [],
      "source": [
        "scaler = StandardScaler()\n",
        "X_train = scaler.fit_transform(X_train)\n",
        "X_test = scaler.fit_transform(X_test)"
      ]
    },
    {
      "cell_type": "code",
      "execution_count": 47,
      "metadata": {
        "id": "hwIG-mP31RDg"
      },
      "outputs": [],
      "source": [
        "\n",
        "X, y = make_classification(n_samples=1000, n_features=5, n_informative=3, random_state=42)\n",
        "\n",
        "\n",
        "X_train, X_test, y_train, y_test = train_test_split(X, y, test_size=0.3, random_state=42)"
      ]
    },
    {
      "cell_type": "code",
      "execution_count": null,
      "metadata": {
        "colab": {
          "base_uri": "https://localhost:8080/",
          "height": 136
        },
        "id": "6tYXqPf3mo5N",
        "outputId": "4ee89436-8173-4e50-b1bd-801068e4e153"
      },
      "outputs": [],
      "source": [
        "lr = LogisticRegression(multi_class = 'multinomial' , solver='lbfgs',max_iter=10000)\n",
        "lr.fit(X_train, y_train)"
      ]
    },
    {
      "cell_type": "code",
      "execution_count": 49,
      "metadata": {
        "id": "8NKwTnBCmoYj"
      },
      "outputs": [],
      "source": [
        "y_pred = lr.predict(X_test)"
      ]
    },
    {
      "cell_type": "code",
      "execution_count": null,
      "metadata": {
        "colab": {
          "base_uri": "https://localhost:8080/"
        },
        "id": "DJ9K5voymt_E",
        "outputId": "6e6aacd2-cfaa-446d-c9e1-81a202e21bee"
      },
      "outputs": [],
      "source": [
        "accuracy = accuracy_score(y_test, y_pred)\n",
        "\n",
        "print(f'Accuracy: {accuracy:.2f}')"
      ]
    },
    {
      "cell_type": "code",
      "execution_count": null,
      "metadata": {
        "colab": {
          "base_uri": "https://localhost:8080/"
        },
        "id": "rgzY_ijTYpK5",
        "outputId": "09390a24-88b4-436e-8a0c-56d0190cc124"
      },
      "outputs": [],
      "source": [
        "print(classification_report(y_test, y_pred))"
      ]
    },
    {
      "cell_type": "markdown",
      "metadata": {
        "id": "Un_DiT6keSeb"
      },
      "source": [
        "SVM Model"
      ]
    },
    {
      "cell_type": "code",
      "execution_count": 52,
      "metadata": {
        "id": "uQDAZ0hvo9RC"
      },
      "outputs": [],
      "source": [
        "from sklearn import svm"
      ]
    },
    {
      "cell_type": "code",
      "execution_count": 53,
      "metadata": {
        "id": "4DdqV4Z-ptua"
      },
      "outputs": [],
      "source": [
        "svm_class = svm.SVC(kernel = 'linear', C=1)"
      ]
    },
    {
      "cell_type": "code",
      "execution_count": null,
      "metadata": {
        "colab": {
          "base_uri": "https://localhost:8080/",
          "height": 80
        },
        "id": "O9zB_398qDVc",
        "outputId": "b42406d0-54c8-43de-b64b-9a421538fa1f"
      },
      "outputs": [],
      "source": [
        "svm_class.fit(X_train,y_train)"
      ]
    },
    {
      "cell_type": "code",
      "execution_count": 55,
      "metadata": {
        "id": "FxAU7VTQqGoH"
      },
      "outputs": [],
      "source": [
        "Y_pred = svm_class.predict(X_test)"
      ]
    },
    {
      "cell_type": "code",
      "execution_count": null,
      "metadata": {
        "colab": {
          "base_uri": "https://localhost:8080/"
        },
        "id": "slFlzGXSwsVF",
        "outputId": "94761181-9820-4a6a-fc4b-98ec6f03120e"
      },
      "outputs": [],
      "source": [
        "accuracy_score(y_pred,y_test)"
      ]
    },
    {
      "cell_type": "code",
      "execution_count": null,
      "metadata": {
        "colab": {
          "base_uri": "https://localhost:8080/"
        },
        "id": "M6-gtWhAqN5E",
        "outputId": "cf69d683-9db8-42c2-9079-cfcdae39454b"
      },
      "outputs": [],
      "source": [
        "print(classification_report(y_pred , y_test))"
      ]
    },
    {
      "cell_type": "code",
      "execution_count": null,
      "metadata": {
        "colab": {
          "base_uri": "https://localhost:8080/"
        },
        "id": "XIqjAevbwz8k",
        "outputId": "eb1af971-378e-4705-e73d-bf64b90517c1"
      },
      "outputs": [],
      "source": [
        "print(confusion_matrix(y_pred , y_test))"
      ]
    }
  ],
  "metadata": {
    "colab": {
      "provenance": []
    },
    "kernelspec": {
      "display_name": "Python 3",
      "name": "python3"
    },
    "language_info": {
      "name": "python"
    }
  },
  "nbformat": 4,
  "nbformat_minor": 0
}
